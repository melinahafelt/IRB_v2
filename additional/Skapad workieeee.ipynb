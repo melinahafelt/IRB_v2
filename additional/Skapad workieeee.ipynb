{
 "cells": [
  {
   "cell_type": "code",
   "execution_count": 3,
   "id": "2c6a0588-ec4c-4294-a28e-e486928c1c83",
   "metadata": {},
   "outputs": [
    {
     "data": {
      "application/vnd.jupyter.widget-view+json": {
       "model_id": "cb4e6b22c76443a5915f5e9f8b93f6ef",
       "version_major": 2,
       "version_minor": 0
      },
      "text/plain": [
       "HBox(children=(VBox(children=(HTML(value='<b>WORK (tabeller)</b>'), Select(layout=Layout(width='260px'), optio…"
      ]
     },
     "metadata": {},
     "output_type": "display_data"
    }
   ],
   "source": [
    "# --- WORK-browser för Jupyter (ingen databas krävs) ---\n",
    "import pandas as pd\n",
    "import numpy as np\n",
    "from IPython.display import display, clear_output\n",
    "import ipywidgets as w\n",
    "\n",
    "# 1) En liten WORK-klass (vår \"SAS WORK\")\n",
    "class Work:\n",
    "    def __init__(self):\n",
    "        self._tables = {}\n",
    "    def add(self, name, df):\n",
    "        if not isinstance(df, pd.DataFrame):\n",
    "            raise TypeError(\"WORK tar bara pandas.DataFrame\")\n",
    "        self._tables[name] = df\n",
    "    def get(self, name):\n",
    "        return self._tables[name]\n",
    "    def names(self):\n",
    "        return list(self._tables.keys())\n",
    "    def overview(self):\n",
    "        return pd.DataFrame({\n",
    "            \"Name\": list(self._tables.keys()),\n",
    "            \"Rows\": [len(df) for df in self._tables.values()],\n",
    "            \"Cols\": [df.shape[1] for df in self._tables.values()],\n",
    "        })\n",
    "    def remove(self, name):\n",
    "        self._tables.pop(name, None)\n",
    "\n",
    "WORK = Work()\n",
    "\n",
    "# 2) Demo: skapa ~10 tabeller + någon join (så du ser hur det funkar)\n",
    "np.random.seed(0)\n",
    "\n",
    "WORK.add(\"customers\", pd.DataFrame({\n",
    "    \"cust_id\": range(1, 11),\n",
    "    \"name\": [f\"Customer_{i}\" for i in range(1, 11)],\n",
    "    \"city\": np.random.choice([\"Stockholm\", \"Göteborg\", \"Malmö\"], size=10)\n",
    "}))\n",
    "\n",
    "WORK.add(\"products\", pd.DataFrame({\n",
    "    \"prod_id\": range(101, 106),\n",
    "    \"product\": [\"Laptop\", \"Phone\", \"Tablet\", \"Headset\", \"Monitor\"],\n",
    "    \"price\": [12000, 8000, 5000, 1200, 3000]\n",
    "}))\n",
    "\n",
    "WORK.add(\"orders\", pd.DataFrame({\n",
    "    \"order_id\": range(1001, 1011),\n",
    "    \"cust_id\": np.random.choice(WORK.get(\"customers\")[\"cust_id\"], size=10),\n",
    "    \"prod_id\": np.random.choice(WORK.get(\"products\")[\"prod_id\"], size=10),\n",
    "    \"quantity\": np.random.randint(1, 5, size=10)\n",
    "}))\n",
    "\n",
    "WORK.add(\"payments\", pd.DataFrame({\n",
    "    \"payment_id\": range(2001, 2011),\n",
    "    \"order_id\": np.random.choice(WORK.get(\"orders\")[\"order_id\"], size=10),\n",
    "    \"amount\": np.random.randint(1000, 20000, size=10),\n",
    "    \"method\": np.random.choice([\"Card\", \"Swish\", \"Invoice\"], size=10)\n",
    "}))\n",
    "\n",
    "WORK.add(\"suppliers\", pd.DataFrame({\n",
    "    \"supp_id\": range(301, 306),\n",
    "    \"supplier\": [f\"Supplier_{i}\" for i in range(1, 6)],\n",
    "    \"city\": np.random.choice([\"Stockholm\", \"Göteborg\", \"Malmö\"], size=5)\n",
    "}))\n",
    "\n",
    "WORK.add(\"inventory\", pd.DataFrame({\n",
    "    \"prod_id\": WORK.get(\"products\")[\"prod_id\"],\n",
    "    \"stock\": np.random.randint(5, 50, size=5),\n",
    "    \"supp_id\": np.random.choice(WORK.get(\"suppliers\")[\"supp_id\"], size=5)\n",
    "}))\n",
    "\n",
    "WORK.add(\"employees\", pd.DataFrame({\n",
    "    \"emp_id\": range(401, 406),\n",
    "    \"name\": [f\"Employee_{i}\" for i in range(1, 6)],\n",
    "    \"role\": np.random.choice([\"Sales\", \"Support\", \"Manager\"], size=5)\n",
    "}))\n",
    "\n",
    "WORK.add(\"stores\", pd.DataFrame({\n",
    "    \"store_id\": range(501, 504),\n",
    "    \"city\": [\"Stockholm\", \"Göteborg\", \"Malmö\"],\n",
    "    \"manager\": np.random.choice(WORK.get(\"employees\")[\"name\"], size=3)\n",
    "}))\n",
    "\n",
    "WORK.add(\"shipments\", pd.DataFrame({\n",
    "    \"ship_id\": range(601, 611),\n",
    "    \"order_id\": np.random.choice(WORK.get(\"orders\")[\"order_id\"], size=10),\n",
    "    \"status\": np.random.choice([\"Pending\", \"Shipped\", \"Delivered\"], size=10)\n",
    "}))\n",
    "\n",
    "WORK.add(\"returns\", pd.DataFrame({\n",
    "    \"return_id\": range(701, 706),\n",
    "    \"order_id\": np.random.choice(WORK.get(\"orders\")[\"order_id\"], size=5),\n",
    "    \"reason\": np.random.choice([\"Damaged\", \"Wrong item\", \"Other\"], size=5)\n",
    "}))\n",
    "\n",
    "# En joinad vy (som PROC SQL JOIN)\n",
    "orders_full = (\n",
    "    WORK.get(\"orders\")\n",
    "    .merge(WORK.get(\"customers\"), on=\"cust_id\", how=\"left\")\n",
    "    .merge(WORK.get(\"products\"), on=\"prod_id\", how=\"left\")\n",
    ")\n",
    "WORK.add(\"orders_full\", orders_full)\n",
    "\n",
    "# 3) UI: vänster lista (WORK), höger visning (som SAS-flikar)\n",
    "lst = w.Select(options=WORK.names(), rows=12, layout=w.Layout(width=\"260px\"))\n",
    "btn_head = w.Button(description=\"Visa head()\", tooltip=\"Visa de första raderna\")\n",
    "btn_all  = w.Button(description=\"Visa hela\", tooltip=\"Visa hela tabellen\")\n",
    "btn_over = w.Button(description=\"Översikt (alla)\", tooltip=\"Visa WORK.overview()\")\n",
    "btn_del  = w.Button(description=\"Ta bort tabell\", tooltip=\"Remove from WORK\")\n",
    "out = w.Output()\n",
    "\n",
    "def refresh_list():\n",
    "    lst.options = WORK.names()\n",
    "\n",
    "def show_df(name, head_only=True):\n",
    "    out.clear_output()\n",
    "    with out:\n",
    "        df = WORK.get(name)\n",
    "        print(f\"TABLE: {name}  |  shape={df.shape}\")\n",
    "        display(df.head() if head_only else df)\n",
    "\n",
    "def on_select(change):\n",
    "    if change[\"name\"] == \"value\" and change[\"new\"]:\n",
    "        show_df(change[\"new\"], head_only=True)\n",
    "\n",
    "def on_head_clicked(_):\n",
    "    if lst.value:\n",
    "        show_df(lst.value, head_only=True)\n",
    "\n",
    "def on_all_clicked(_):\n",
    "    if lst.value:\n",
    "        show_df(lst.value, head_only=False)\n",
    "\n",
    "def on_over_clicked(_):\n",
    "    out.clear_output()\n",
    "    with out:\n",
    "        print(\"WORK overview\")\n",
    "        display(WORK.overview())\n",
    "\n",
    "def on_del_clicked(_):\n",
    "    if lst.value:\n",
    "        WORK.remove(lst.value)\n",
    "        refresh_list()\n",
    "        out.clear_output()\n",
    "\n",
    "lst.observe(on_select, names=\"value\")\n",
    "btn_head.on_click(on_head_clicked)\n",
    "btn_all.on_click(on_all_clicked)\n",
    "btn_over.on_click(on_over_clicked)\n",
    "btn_del.on_click(on_del_clicked)\n",
    "\n",
    "controls = w.VBox([\n",
    "    w.HTML(\"<b>WORK (tabeller)</b>\"),\n",
    "    lst,\n",
    "    w.HBox([btn_head, btn_all]),\n",
    "    w.HBox([btn_over, btn_del]),\n",
    "])\n",
    "\n",
    "ui = w.HBox([controls, out], layout=w.Layout(gap=\"16px\"))\n",
    "display(ui)\n",
    "\n",
    "# Visa översikten initialt\n",
    "on_over_clicked(None)\n"
   ]
  },
  {
   "cell_type": "code",
   "execution_count": null,
   "id": "b0bba09e-8a68-48a4-8360-2cc8c8ee2f82",
   "metadata": {},
   "outputs": [],
   "source": []
  },
  {
   "cell_type": "code",
   "execution_count": null,
   "id": "3afbfc4f-c1e8-43cd-957f-5fd6f625a850",
   "metadata": {},
   "outputs": [],
   "source": []
  }
 ],
 "metadata": {
  "kernelspec": {
   "display_name": "Python 3 (ipykernel)",
   "language": "python",
   "name": "python3"
  },
  "language_info": {
   "codemirror_mode": {
    "name": "ipython",
    "version": 3
   },
   "file_extension": ".py",
   "mimetype": "text/x-python",
   "name": "python",
   "nbconvert_exporter": "python",
   "pygments_lexer": "ipython3",
   "version": "3.11.9"
  },
  "widgets": {
   "application/vnd.jupyter.widget-state+json": {
    "state": {
     "070c25e006974cbfbf1db5bfbe14bc0e": {
      "model_module": "@jupyter-widgets/controls",
      "model_module_version": "2.0.0",
      "model_name": "ButtonStyleModel",
      "state": {
       "font_family": null,
       "font_size": null,
       "font_style": null,
       "font_variant": null,
       "font_weight": null,
       "text_color": null,
       "text_decoration": null
      }
     },
     "09b122f00884495daada8fbda7d90c4c": {
      "model_module": "@jupyter-widgets/controls",
      "model_module_version": "2.0.0",
      "model_name": "SelectModel",
      "state": {
       "_options_labels": [
        "customers",
        "products",
        "orders",
        "payments",
        "suppliers",
        "inventory",
        "employees",
        "stores",
        "shipments",
        "returns",
        "orders_full"
       ],
       "index": 0,
       "layout": "IPY_MODEL_bb48b5d37a4a4ce4b3019033119a3240",
       "rows": 12,
       "style": "IPY_MODEL_8566fa79469f4ab7a43c71c544ddae5f"
      }
     },
     "0f59988a12bf48048050af0d94860bcb": {
      "model_module": "@jupyter-widgets/base",
      "model_module_version": "2.0.0",
      "model_name": "LayoutModel",
      "state": {}
     },
     "121538d6e4374b858eb16f5a156cf210": {
      "model_module": "@jupyter-widgets/base",
      "model_module_version": "2.0.0",
      "model_name": "LayoutModel",
      "state": {}
     },
     "144d6412944e4340a7441196cb52a658": {
      "model_module": "@jupyter-widgets/controls",
      "model_module_version": "2.0.0",
      "model_name": "ButtonModel",
      "state": {
       "description": "Visa hela",
       "layout": "IPY_MODEL_0f59988a12bf48048050af0d94860bcb",
       "style": "IPY_MODEL_070c25e006974cbfbf1db5bfbe14bc0e",
       "tooltip": "Visa hela tabellen"
      }
     },
     "150587a9346344b9bc588d24d08166af": {
      "model_module": "@jupyter-widgets/base",
      "model_module_version": "2.0.0",
      "model_name": "LayoutModel",
      "state": {}
     },
     "1bd602825d094263bbcd95fdde744431": {
      "model_module": "@jupyter-widgets/controls",
      "model_module_version": "2.0.0",
      "model_name": "ButtonModel",
      "state": {
       "description": "Översikt (alla)",
       "layout": "IPY_MODEL_9a88ccf85a7343f1b823d14a6c5072c3",
       "style": "IPY_MODEL_96135c4cc698493b9a6f97d912c0c03d",
       "tooltip": "Visa WORK.overview()"
      }
     },
     "220945a306fe4a5b8bce6bc1c534dff2": {
      "model_module": "@jupyter-widgets/base",
      "model_module_version": "2.0.0",
      "model_name": "LayoutModel",
      "state": {}
     },
     "349002a45c9c4d56914db7a73a37c643": {
      "model_module": "@jupyter-widgets/controls",
      "model_module_version": "2.0.0",
      "model_name": "HBoxModel",
      "state": {
       "children": [
        "IPY_MODEL_1bd602825d094263bbcd95fdde744431",
        "IPY_MODEL_aa6c5d0bb7344499b52e0b2d8c2125c4"
       ],
       "layout": "IPY_MODEL_d35ae5a5660d4a2a9486d1329e0a2f92"
      }
     },
     "4f553ec95ba64bef95753b76f2c30334": {
      "model_module": "@jupyter-widgets/base",
      "model_module_version": "2.0.0",
      "model_name": "LayoutModel",
      "state": {}
     },
     "744e1ebf0cd04cffa9dcc0e46e556e39": {
      "model_module": "@jupyter-widgets/base",
      "model_module_version": "2.0.0",
      "model_name": "LayoutModel",
      "state": {}
     },
     "7c8c9d4a8cdf4ba4a0a22e652a033fe0": {
      "model_module": "@jupyter-widgets/controls",
      "model_module_version": "2.0.0",
      "model_name": "ButtonStyleModel",
      "state": {
       "font_family": null,
       "font_size": null,
       "font_style": null,
       "font_variant": null,
       "font_weight": null,
       "text_color": null,
       "text_decoration": null
      }
     },
     "8566fa79469f4ab7a43c71c544ddae5f": {
      "model_module": "@jupyter-widgets/controls",
      "model_module_version": "2.0.0",
      "model_name": "DescriptionStyleModel",
      "state": {
       "description_width": ""
      }
     },
     "8676294ed19e49cd87eace1a1f0cfcb1": {
      "model_module": "@jupyter-widgets/controls",
      "model_module_version": "2.0.0",
      "model_name": "HBoxModel",
      "state": {
       "children": [
        "IPY_MODEL_e079ad227db64566a488e883f19d6bb9",
        "IPY_MODEL_144d6412944e4340a7441196cb52a658"
       ],
       "layout": "IPY_MODEL_150587a9346344b9bc588d24d08166af"
      }
     },
     "96135c4cc698493b9a6f97d912c0c03d": {
      "model_module": "@jupyter-widgets/controls",
      "model_module_version": "2.0.0",
      "model_name": "ButtonStyleModel",
      "state": {
       "font_family": null,
       "font_size": null,
       "font_style": null,
       "font_variant": null,
       "font_weight": null,
       "text_color": null,
       "text_decoration": null
      }
     },
     "9a88ccf85a7343f1b823d14a6c5072c3": {
      "model_module": "@jupyter-widgets/base",
      "model_module_version": "2.0.0",
      "model_name": "LayoutModel",
      "state": {}
     },
     "a2850c9bc7b44209a080b91e1435b86c": {
      "model_module": "@jupyter-widgets/controls",
      "model_module_version": "2.0.0",
      "model_name": "VBoxModel",
      "state": {
       "children": [
        "IPY_MODEL_de74ee83f0354d6a9e14fd541cf92405",
        "IPY_MODEL_09b122f00884495daada8fbda7d90c4c",
        "IPY_MODEL_8676294ed19e49cd87eace1a1f0cfcb1",
        "IPY_MODEL_349002a45c9c4d56914db7a73a37c643"
       ],
       "layout": "IPY_MODEL_220945a306fe4a5b8bce6bc1c534dff2"
      }
     },
     "aa6c5d0bb7344499b52e0b2d8c2125c4": {
      "model_module": "@jupyter-widgets/controls",
      "model_module_version": "2.0.0",
      "model_name": "ButtonModel",
      "state": {
       "description": "Ta bort tabell",
       "layout": "IPY_MODEL_4f553ec95ba64bef95753b76f2c30334",
       "style": "IPY_MODEL_e1d4efa83d5f448ca1ddb7c1fb2678b6",
       "tooltip": "Remove from WORK"
      }
     },
     "bb48b5d37a4a4ce4b3019033119a3240": {
      "model_module": "@jupyter-widgets/base",
      "model_module_version": "2.0.0",
      "model_name": "LayoutModel",
      "state": {
       "width": "260px"
      }
     },
     "c080d78d4178435eae9f32d096bc16c3": {
      "model_module": "@jupyter-widgets/base",
      "model_module_version": "2.0.0",
      "model_name": "LayoutModel",
      "state": {}
     },
     "cb4e6b22c76443a5915f5e9f8b93f6ef": {
      "model_module": "@jupyter-widgets/controls",
      "model_module_version": "2.0.0",
      "model_name": "HBoxModel",
      "state": {
       "children": [
        "IPY_MODEL_a2850c9bc7b44209a080b91e1435b86c",
        "IPY_MODEL_fe23cad17f254fd2a5f44f0cd6b78c8d"
       ],
       "layout": "IPY_MODEL_f513867e55724ae1bd0039c48dc6e4ed"
      }
     },
     "d35ae5a5660d4a2a9486d1329e0a2f92": {
      "model_module": "@jupyter-widgets/base",
      "model_module_version": "2.0.0",
      "model_name": "LayoutModel",
      "state": {}
     },
     "de74ee83f0354d6a9e14fd541cf92405": {
      "model_module": "@jupyter-widgets/controls",
      "model_module_version": "2.0.0",
      "model_name": "HTMLModel",
      "state": {
       "layout": "IPY_MODEL_c080d78d4178435eae9f32d096bc16c3",
       "style": "IPY_MODEL_fc3f38da5cca48dc84218f915c585dcb",
       "value": "<b>WORK (tabeller)</b>"
      }
     },
     "e079ad227db64566a488e883f19d6bb9": {
      "model_module": "@jupyter-widgets/controls",
      "model_module_version": "2.0.0",
      "model_name": "ButtonModel",
      "state": {
       "description": "Visa head()",
       "layout": "IPY_MODEL_744e1ebf0cd04cffa9dcc0e46e556e39",
       "style": "IPY_MODEL_7c8c9d4a8cdf4ba4a0a22e652a033fe0",
       "tooltip": "Visa de första raderna"
      }
     },
     "e1d4efa83d5f448ca1ddb7c1fb2678b6": {
      "model_module": "@jupyter-widgets/controls",
      "model_module_version": "2.0.0",
      "model_name": "ButtonStyleModel",
      "state": {
       "font_family": null,
       "font_size": null,
       "font_style": null,
       "font_variant": null,
       "font_weight": null,
       "text_color": null,
       "text_decoration": null
      }
     },
     "f513867e55724ae1bd0039c48dc6e4ed": {
      "model_module": "@jupyter-widgets/base",
      "model_module_version": "2.0.0",
      "model_name": "LayoutModel",
      "state": {}
     },
     "fc3f38da5cca48dc84218f915c585dcb": {
      "model_module": "@jupyter-widgets/controls",
      "model_module_version": "2.0.0",
      "model_name": "HTMLStyleModel",
      "state": {
       "description_width": "",
       "font_size": null,
       "text_color": null
      }
     },
     "fe23cad17f254fd2a5f44f0cd6b78c8d": {
      "model_module": "@jupyter-widgets/output",
      "model_module_version": "1.0.0",
      "model_name": "OutputModel",
      "state": {
       "layout": "IPY_MODEL_121538d6e4374b858eb16f5a156cf210"
      }
     }
    },
    "version_major": 2,
    "version_minor": 0
   }
  }
 },
 "nbformat": 4,
 "nbformat_minor": 5
}
