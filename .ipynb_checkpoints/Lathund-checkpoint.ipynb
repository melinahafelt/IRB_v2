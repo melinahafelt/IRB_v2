{
 "cells": [
  {
   "cell_type": "markdown",
   "id": "da48ce9f-8850-4dd3-b621-7ab3a4400e68",
   "metadata": {},
   "source": [
    "# Lathund"
   ]
  },
  {
   "cell_type": "code",
   "execution_count": 1,
   "id": "eaeaeaa4-9eef-4ae7-b85c-87b6b2445f33",
   "metadata": {},
   "outputs": [
    {
     "ename": "NameError",
     "evalue": "name 'df' is not defined",
     "output_type": "error",
     "traceback": [
      "\u001b[31m---------------------------------------------------------------------------\u001b[39m",
      "\u001b[31mNameError\u001b[39m                                 Traceback (most recent call last)",
      "\u001b[36mCell\u001b[39m\u001b[36m \u001b[39m\u001b[32mIn[1]\u001b[39m\u001b[32m, line 3\u001b[39m\n\u001b[32m      1\u001b[39m \u001b[38;5;66;03m# 📘 pandas df['column'] cheat sheet – things worth knowing\u001b[39;00m\n\u001b[32m----> \u001b[39m\u001b[32m3\u001b[39m \u001b[43mdf\u001b[49m[\u001b[33m'\u001b[39m\u001b[33mcol\u001b[39m\u001b[33m'\u001b[39m].head()                     \u001b[38;5;66;03m# First 5 values\u001b[39;00m\n\u001b[32m      4\u001b[39m df[\u001b[33m'\u001b[39m\u001b[33mcol\u001b[39m\u001b[33m'\u001b[39m].unique()                  \u001b[38;5;66;03m# Unique values\u001b[39;00m\n\u001b[32m      5\u001b[39m df[\u001b[33m'\u001b[39m\u001b[33mcol\u001b[39m\u001b[33m'\u001b[39m].nunique()                 \u001b[38;5;66;03m# Number of unique values\u001b[39;00m\n",
      "\u001b[31mNameError\u001b[39m: name 'df' is not defined"
     ]
    }
   ],
   "source": [
    "# 📘 pandas df['column'] cheat sheet – things worth knowing\n",
    "\n",
    "df['col'].head()                     # First 5 values\n",
    "df['col'].unique()                  # Unique values\n",
    "df['col'].nunique()                 # Number of unique values\n",
    "df['col'].value_counts()           # Frequency of each value\n",
    "df['col'].value_counts(normalize=True)  # Proportion of each value\n",
    "\n",
    "df['col'].isnull().sum()            # Number of missing values\n",
    "df['col'].notnull().sum()           # Number of non-missing values\n",
    "df['col'].duplicated().sum()        # Number of duplicated values\n",
    "\n",
    "df['col'].dtype                     # Data type (e.g., object, int64)\n",
    "df['col'].apply(type).value_counts()  # Python types per row (e.g., str, int)\n",
    "\n",
    "df['col'].describe()                # Summary stats (numerical columns)\n",
    "df['col'].astype(int)               # Convert data type\n",
    "df['col'].fillna('N/A')             # Fill missing with a value\n",
    "df['col'].map({'bad': 1, 'good': 0})  # Map values (categorical to numerical)\n",
    "\n",
    "df['col'].str.lower()               # Lowercase strings (for text columns)\n",
    "df['col'].plot(kind='hist')         # Quick histogram\n"
   ]
  },
  {
   "cell_type": "code",
   "execution_count": 2,
   "id": "e3c73b07-6161-4007-99bc-7187fe3d9333",
   "metadata": {},
   "outputs": [
    {
     "ename": "NameError",
     "evalue": "name 'df' is not defined",
     "output_type": "error",
     "traceback": [
      "\u001b[31m---------------------------------------------------------------------------\u001b[39m",
      "\u001b[31mNameError\u001b[39m                                 Traceback (most recent call last)",
      "\u001b[36mCell\u001b[39m\u001b[36m \u001b[39m\u001b[32mIn[2]\u001b[39m\u001b[32m, line 2\u001b[39m\n\u001b[32m      1\u001b[39m \u001b[38;5;66;03m# Filtera rader där en kolumn har visst värde\u001b[39;00m\n\u001b[32m----> \u001b[39m\u001b[32m2\u001b[39m \u001b[43mdf\u001b[49m[df[\u001b[33m'\u001b[39m\u001b[33mcol\u001b[39m\u001b[33m'\u001b[39m] == \u001b[33m'\u001b[39m\u001b[33mbad\u001b[39m\u001b[33m'\u001b[39m]\n\u001b[32m      4\u001b[39m \u001b[38;5;66;03m# Filtrera flera värden\u001b[39;00m\n\u001b[32m      5\u001b[39m df[df[\u001b[33m'\u001b[39m\u001b[33mcol\u001b[39m\u001b[33m'\u001b[39m].isin([\u001b[33m'\u001b[39m\u001b[33mbad\u001b[39m\u001b[33m'\u001b[39m, \u001b[33m'\u001b[39m\u001b[33munknown\u001b[39m\u001b[33m'\u001b[39m])]\n",
      "\u001b[31mNameError\u001b[39m: name 'df' is not defined"
     ]
    }
   ],
   "source": [
    "# Filtera rader där en kolumn har visst värde\n",
    "df[df['col'] == 'bad']\n",
    "\n",
    "# Filtrera flera värden\n",
    "df[df['col'].isin(['bad', 'unknown'])]\n",
    "\n",
    "# Längden på textsträngar i en kolumn\n",
    "df['col'].str.len()\n",
    "\n",
    "# Extrahera delar av en sträng (t.ex. sista 3 tecken)\n",
    "df['col'].str[-3:]\n",
    "\n",
    "# Skapa en ny binär kolumn baserat på ett villkor\n",
    "df['is_default'] = (df['class'] == 'bad').astype(int)\n",
    "\n",
    "# Skapa grupper och räkna rader (groupby)\n",
    "df.groupby('housing')['class'].value_counts()\n",
    "\n",
    "# Räkna snitt per grupp\n",
    "df.groupby('employment')['credit_amount'].mean()\n",
    "\n",
    "# Sortera efter en kolumn\n",
    "df.sort_values(by='credit_amount', ascending=False)\n",
    "\n",
    "# Skapa kategorier från numeriska värden\n",
    "df['age_group'] = pd.cut(df['age'], bins=[0, 25, 40, 60, 100], labels=['<25', '25–40', '40–60', '60+'])\n",
    "\n",
    "# Skapa dummyvariabler för kategoriska kolumner (one-hot)\n",
    "pd.get_dummies(df['housing'], prefix='housing')\n",
    "\n",
    "# Visa rader med saknade värden i en viss kolumn\n",
    "df[df['savings_status'].isnull()]\n"
   ]
  },
  {
   "cell_type": "code",
   "execution_count": 3,
   "id": "8898158c-a4e4-446c-b793-6d91ed21f84c",
   "metadata": {},
   "outputs": [
    {
     "ename": "NameError",
     "evalue": "name 'pd' is not defined",
     "output_type": "error",
     "traceback": [
      "\u001b[31m---------------------------------------------------------------------------\u001b[39m",
      "\u001b[31mNameError\u001b[39m                                 Traceback (most recent call last)",
      "\u001b[36mCell\u001b[39m\u001b[36m \u001b[39m\u001b[32mIn[3]\u001b[39m\u001b[32m, line 2\u001b[39m\n\u001b[32m      1\u001b[39m \u001b[38;5;66;03m# Visa fler kolumner i output\u001b[39;00m\n\u001b[32m----> \u001b[39m\u001b[32m2\u001b[39m \u001b[43mpd\u001b[49m.set_option(\u001b[33m'\u001b[39m\u001b[33mdisplay.max_columns\u001b[39m\u001b[33m'\u001b[39m, \u001b[32m100\u001b[39m)\n\u001b[32m      4\u001b[39m \u001b[38;5;66;03m# Visa fler rader\u001b[39;00m\n\u001b[32m      5\u001b[39m pd.set_option(\u001b[33m'\u001b[39m\u001b[33mdisplay.max_rows\u001b[39m\u001b[33m'\u001b[39m, \u001b[32m100\u001b[39m)\n",
      "\u001b[31mNameError\u001b[39m: name 'pd' is not defined"
     ]
    }
   ],
   "source": [
    "# Visa fler kolumner i output\n",
    "pd.set_option('display.max_columns', 100)\n",
    "\n",
    "# Visa fler rader\n",
    "pd.set_option('display.max_rows', 100)\n",
    "\n",
    "# Visa hela innehållet i varje cell (inga \"...\")\n",
    "pd.set_option('display.max_colwidth', None)\n"
   ]
  },
  {
   "cell_type": "code",
   "execution_count": null,
   "id": "79ea2f55-48bf-4f47-b826-a7301618ddb4",
   "metadata": {},
   "outputs": [],
   "source": [
    "# Load from OpenML (directly from the web)\n",
    "url = \"https://www.openml.org/data/get_csv/31/dataset_31_car.arff\"\n",
    "df = pd.read_csv(url)\n",
    "\n",
    "# I prefer starting the first observation at 1, it feels clearer for reporting purposes.\n",
    "df.index = df.index + 1\n",
    "\n",
    "# Display the first five (deafult) rows \n",
    "df.head()"
   ]
  }
 ],
 "metadata": {
  "kernelspec": {
   "display_name": "Python 3 (ipykernel)",
   "language": "python",
   "name": "python3"
  },
  "language_info": {
   "codemirror_mode": {
    "name": "ipython",
    "version": 3
   },
   "file_extension": ".py",
   "mimetype": "text/x-python",
   "name": "python",
   "nbconvert_exporter": "python",
   "pygments_lexer": "ipython3",
   "version": "3.11.9"
  },
  "widgets": {
   "application/vnd.jupyter.widget-state+json": {
    "state": {},
    "version_major": 2,
    "version_minor": 0
   }
  }
 },
 "nbformat": 4,
 "nbformat_minor": 5
}
